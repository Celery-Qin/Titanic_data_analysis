{
 "cells": [
  {
   "cell_type": "code",
   "execution_count": 1,
   "metadata": {
    "collapsed": true
   },
   "outputs": [],
   "source": [
    "original_file = 'titanic-data.csv'"
   ]
  },
  {
   "cell_type": "markdown",
   "metadata": {},
   "source": [
    "# Data Dictionary\n",
    "\n",
    "|Variable\t|Definition\t     |Key                |\n",
    "|-----------|:---------------|:------------------|\n",
    "|PassengerId|                |                   |\n",
    "|survival\t|Survival\t     |0 = No, 1 = Yes    |\n",
    "|pclass\t    |Ticket class\t |1 = 1st, 2 = 2nd, 3 = 3rd|\n",
    "|Name       |Name            |                   |\n",
    "|sex\t    |Sex\t         |                   |\n",
    "|Age\t    |Age in years\t |                   |\n",
    "|sibsp\t    |# of siblings / spouses aboard the Titanic\t| |\n",
    "|parch\t    |# of parents / children aboard the Titanic\t| |\n",
    "|ticket\t    |Ticket number\t | |\n",
    "|fare\t    |Passenger fare\t | |\n",
    "|cabin\t    |Cabin number\t | |\n",
    "|embarked\t|Port of Embarkation|C = Cherbourg, Q = Queenstown, S = Southampton|\n",
    "\n",
    "\n",
    "# Variable Notes\n",
    "\n",
    "__pclass__: A proxy for socio-economic status (SES)\n",
    "1st = Upper\n",
    "2nd = Middle\n",
    "3rd = Lower\n",
    "\n",
    "__age__: Age is fractional if less than 1. If the age is estimated, is it in the form of xx.5\n",
    "\n",
    "__sibsp__: The dataset defines family relations in this way...\n",
    "Sibling = brother, sister, stepbrother, stepsister\n",
    "Spouse = husband, wife (mistresses and fiancés were ignored)\n",
    "\n",
    "__parch__: The dataset defines family relations in this way...\n",
    "Parent = mother, father\n",
    "Child = daughter, son, stepdaughter, stepson\n",
    "Some children travelled only with a nanny, therefore parch=0 for them.\n",
    "\n",
    "\n",
    "from [Kaggle](https://www.kaggle.com/c/titanic/data)"
   ]
  },
  {
   "cell_type": "markdown",
   "metadata": {},
   "source": [
    "# 提出假设：哪些因素让船上的人生还率更高？\n",
    "\n",
    "+ 是否社会地位更高的人，生还率更高？通过Pclass间接推测社会地位\n",
    "+ 儿童和妇女是否生还率更高？猜测救援的时候，儿童和妇女可能会得到更多的照顾。通过Sex和Age来计算乘客的性别和年龄\n",
    "+ 有亲属同船的，是否生还率更高？亲属越多生还率越高吗？猜测亲属在救援的时候，会互相帮助，从而增加生还率。通过SibSp和Parch推测亲属的数量"
   ]
  },
  {
   "cell_type": "code",
   "execution_count": 2,
   "metadata": {
    "collapsed": true
   },
   "outputs": [],
   "source": [
    "import matplotlib.pyplot as plt\n",
    "import numpy as np\n",
    "import pandas as pd\n",
    "import seaborn as sns"
   ]
  },
  {
   "cell_type": "code",
   "execution_count": 3,
   "metadata": {},
   "outputs": [
    {
     "data": {
      "text/plain": [
       "891"
      ]
     },
     "execution_count": 3,
     "metadata": {},
     "output_type": "execute_result"
    }
   ],
   "source": [
    "# 导入原始数据\n",
    "passenger_df = pd.read_csv(original_file)\n",
    "\n",
    "passenger_df.shape[0]"
   ]
  },
  {
   "cell_type": "markdown",
   "metadata": {},
   "source": [
    "# 问题1: 是否社会地位更高的人，生还率更高？"
   ]
  },
  {
   "cell_type": "code",
   "execution_count": 4,
   "metadata": {},
   "outputs": [
    {
     "name": "stdout",
     "output_type": "stream",
     "text": [
      "Populating the interactive namespace from numpy and matplotlib\n"
     ]
    },
    {
     "data": {
      "image/png": "[encoded data removed]",
      "text/plain": [
       "<matplotlib.figure.Figure at 0x1a0cbff850>"
      ]
     },
     "metadata": {},
     "output_type": "display_data"
    }
   ],
   "source": [
    "# 船上各pclass人群分布\n",
    "\n",
    "def pie_chart(data, point, title, labels=None):\n",
    "    %pylab inline\n",
    "    data.groupby(point)['PassengerId'].count().plot(kind='pie', autopct='%.1f%%')\n",
    "    plt.title(title)\n",
    "    plt.legend(labels=labels, loc='best')\n",
    "    return None\n",
    "    \n",
    "pie_chart(passenger_df, 'Pclass', 'Pclass VS Count', ['Pclass 1','Pclass 2','Pclass 3'])"
   ]
  },
  {
   "cell_type": "code",
   "execution_count": 5,
   "metadata": {},
   "outputs": [
    {
     "data": {
      "text/plain": [
       "Pclass\n",
       "1    0.629630\n",
       "2    0.472826\n",
       "3    0.242363\n",
       "Name: Survived, dtype: float64"
      ]
     },
     "execution_count": 5,
     "metadata": {},
     "output_type": "execute_result"
    }
   ],
   "source": [
    "def survival_rate(data, point):\n",
    "    # 因为survived变量的值为0/1，所以直接对其求平均值就能够得到存活率\n",
    "    return data.groupby(point)['Survived'].mean()\n",
    "\n",
    "survived_rate_by_pclass = survival_rate(passenger_df,'Pclass')\n",
    "survived_rate_by_pclass"
   ]
  },
  {
   "cell_type": "code",
   "execution_count": 6,
   "metadata": {
    "scrolled": true
   },
   "outputs": [
    {
     "name": "stdout",
     "output_type": "stream",
     "text": [
      "Populating the interactive namespace from numpy and matplotlib\n"
     ]
    },
    {
     "data": {
      "text/plain": [
       "<matplotlib.text.Text at 0x1a152f18d0>"
      ]
     },
     "execution_count": 6,
     "metadata": {},
     "output_type": "execute_result"
    },
    {
     "data": {
      "image/png": "[encoded data removed]",
      "text/plain": [
       "<matplotlib.figure.Figure at 0x1a0cbe7b50>"
      ]
     },
     "metadata": {},
     "output_type": "display_data"
    }
   ],
   "source": [
    "# 可视化\n",
    "%pylab inline\n",
    "\n",
    "survived_rate_by_pclass.plot(kind='bar')\n",
    "plt.title('Pclass VS Survival Rate')\n",
    "plt.ylabel('Survival rate')"
   ]
  },
  {
   "cell_type": "markdown",
   "metadata": {},
   "source": [
    "问题1小结：\n",
    "\n",
    "+ 船上已三等舱乘客为主，占55.1%\n",
    "+ 根据现有数据，生还率会随着船票等级（Pclass）的提高而提高\n",
    "+ 船票等级__间接__反应乘客的社会地位，但不一定船票等级越高社会地位一定越高\n"
   ]
  },
  {
   "cell_type": "markdown",
   "metadata": {},
   "source": [
    "# 问题2: 儿童和妇女是否生还率更高？"
   ]
  },
  {
   "cell_type": "code",
   "execution_count": 7,
   "metadata": {
    "scrolled": false
   },
   "outputs": [
    {
     "name": "stdout",
     "output_type": "stream",
     "text": [
      "The max of age is 80.0, and the min is 0.42\n",
      "The left data has 714 rows\n"
     ]
    }
   ],
   "source": [
    "age_max = passenger_df['Age'].max()\n",
    "age_min = passenger_df['Age'].min()\n",
    "print 'The max of age is {}, and the min is {}'.format(age_max, age_min)\n",
    "\n",
    "# 所以将年龄段从0-80岁，10岁为一个年龄段，划分为8段\n",
    "bins = np.arange(0, 90, 10)\n",
    "\n",
    "# 剔除空数据\n",
    "age_and_sex = passenger_df[['PassengerId','Sex','Age','Survived']].dropna()\n",
    "print \"The left data has {} rows\".format(age_and_sex.shape[0])\n",
    "\n",
    "# 增加年龄段一列\n",
    "age_and_sex['Age_division'] = pd.cut(age_and_sex['Age'], bins)"
   ]
  },
  {
   "cell_type": "code",
   "execution_count": 8,
   "metadata": {},
   "outputs": [
    {
     "name": "stdout",
     "output_type": "stream",
     "text": [
      "Populating the interactive namespace from numpy and matplotlib\n"
     ]
    },
    {
     "data": {
      "image/png": "[encoded data removed]",
      "text/plain": [
       "<matplotlib.figure.Figure at 0x1a1537d0d0>"
      ]
     },
     "metadata": {},
     "output_type": "display_data"
    }
   ],
   "source": [
    "# 船上各年龄段人群分布\n",
    "\n",
    "pie_chart(age_and_sex, 'Age_division', 'Age VS Count')"
   ]
  },
  {
   "cell_type": "code",
   "execution_count": 9,
   "metadata": {},
   "outputs": [
    {
     "data": {
      "text/plain": [
       "Age_division\n",
       "(0, 10]     0.593750\n",
       "(10, 20]    0.382609\n",
       "(20, 30]    0.365217\n",
       "(30, 40]    0.445161\n",
       "(40, 50]    0.383721\n",
       "(50, 60]    0.404762\n",
       "(60, 70]    0.235294\n",
       "(70, 80]    0.200000\n",
       "Name: Survived, dtype: float64"
      ]
     },
     "execution_count": 9,
     "metadata": {},
     "output_type": "execute_result"
    }
   ],
   "source": [
    "# 计算各年龄段的存活率\n",
    "\n",
    "survived_rate_by_age_division = survival_rate(age_and_sex,'Age_division')\n",
    "survived_rate_by_age_division"
   ]
  },
  {
   "cell_type": "code",
   "execution_count": 10,
   "metadata": {
    "scrolled": true
   },
   "outputs": [
    {
     "name": "stdout",
     "output_type": "stream",
     "text": [
      "Populating the interactive namespace from numpy and matplotlib\n"
     ]
    },
    {
     "data": {
      "text/plain": [
       "<matplotlib.text.Text at 0x1a15532350>"
      ]
     },
     "execution_count": 10,
     "metadata": {},
     "output_type": "execute_result"
    },
    {
     "data": {
      "image/png": "[encoded data removed]",
      "text/plain": [
       "<matplotlib.figure.Figure at 0x1a153e52d0>"
      ]
     },
     "metadata": {},
     "output_type": "display_data"
    }
   ],
   "source": [
    "%pylab inline\n",
    "\n",
    "survived_rate_by_age_division.plot(kind='bar')\n",
    "plt.title('Age VS Survival Rate')\n",
    "plt.ylabel('Survival rate')"
   ]
  },
  {
   "cell_type": "code",
   "execution_count": 11,
   "metadata": {
    "scrolled": true
   },
   "outputs": [
    {
     "name": "stdout",
     "output_type": "stream",
     "text": [
      "Populating the interactive namespace from numpy and matplotlib\n"
     ]
    },
    {
     "data": {
      "image/png": "[encoded data removed]",
      "text/plain": [
       "<matplotlib.figure.Figure at 0x1a155f1790>"
      ]
     },
     "metadata": {},
     "output_type": "display_data"
    }
   ],
   "source": [
    "# 船上各性别人群分布\n",
    "\n",
    "pie_chart(age_and_sex, 'Sex', 'Sex VS Count')"
   ]
  },
  {
   "cell_type": "code",
   "execution_count": 12,
   "metadata": {},
   "outputs": [
    {
     "name": "stdout",
     "output_type": "stream",
     "text": [
      "Populating the interactive namespace from numpy and matplotlib\n"
     ]
    },
    {
     "data": {
      "text/plain": [
       "<matplotlib.text.Text at 0x1a15740190>"
      ]
     },
     "execution_count": 12,
     "metadata": {},
     "output_type": "execute_result"
    },
    {
     "data": {
      "image/png": "[encoded data removed]",
      "text/plain": [
       "<matplotlib.figure.Figure at 0x1a15391110>"
      ]
     },
     "metadata": {},
     "output_type": "display_data"
    }
   ],
   "source": [
    "# 性别对存活率的影响\n",
    "\n",
    "%pylab inline\n",
    "\n",
    "survived_rate_by_sex = survival_rate(passenger_df, 'Sex')\n",
    "survived_rate_by_sex.plot(kind='bar')\n",
    "plt.title('Sex VS Survival Rate')\n",
    "plt.ylabel('Survival rate')"
   ]
  },
  {
   "cell_type": "code",
   "execution_count": 13,
   "metadata": {
    "scrolled": false
   },
   "outputs": [
    {
     "data": {
      "text/plain": [
       "Age_division\n",
       "(0, 10]     0.575758\n",
       "(10, 20]    0.144928\n",
       "(20, 30]    0.154362\n",
       "(30, 40]    0.230000\n",
       "(40, 50]    0.218182\n",
       "(50, 60]    0.142857\n",
       "(60, 70]    0.071429\n",
       "(70, 80]    0.200000\n",
       "Name: Survived, dtype: float64"
      ]
     },
     "execution_count": 13,
     "metadata": {},
     "output_type": "execute_result"
    }
   ],
   "source": [
    "# 计算各个性别的存活率，以年龄段分布，但是这里剔除了年龄为空的数据\n",
    "survived_rate_by_age_male = survival_rate(age_and_sex[age_and_sex['Sex']=='male'],'Age_division')\n",
    "survived_rate_by_age_male"
   ]
  },
  {
   "cell_type": "code",
   "execution_count": 14,
   "metadata": {},
   "outputs": [
    {
     "data": {
      "text/plain": [
       "Age_division\n",
       "(0, 10]     0.612903\n",
       "(10, 20]    0.739130\n",
       "(20, 30]    0.753086\n",
       "(30, 40]    0.836364\n",
       "(40, 50]    0.677419\n",
       "(50, 60]    0.928571\n",
       "(60, 70]    1.000000\n",
       "(70, 80]         NaN\n",
       "Name: Survived, dtype: float64"
      ]
     },
     "execution_count": 14,
     "metadata": {},
     "output_type": "execute_result"
    }
   ],
   "source": [
    "survived_rate_by_age_female = survival_rate(age_and_sex[age_and_sex['Sex']=='female'],'Age_division')\n",
    "survived_rate_by_age_female"
   ]
  },
  {
   "cell_type": "code",
   "execution_count": 15,
   "metadata": {
    "scrolled": true
   },
   "outputs": [
    {
     "name": "stdout",
     "output_type": "stream",
     "text": [
      "Populating the interactive namespace from numpy and matplotlib\n"
     ]
    },
    {
     "data": {
      "text/plain": [
       "<matplotlib.text.Text at 0x1a1585e9d0>"
      ]
     },
     "execution_count": 15,
     "metadata": {},
     "output_type": "execute_result"
    },
    {
     "data": {
      "image/png": "[encoded data removed]",
      "text/plain": [
       "<matplotlib.figure.Figure at 0x1a156a5150>"
      ]
     },
     "metadata": {},
     "output_type": "display_data"
    }
   ],
   "source": [
    "%pylab inline\n",
    "\n",
    "bar_width = 0.3\n",
    "\n",
    "survived_rate_by_age_male.plot(kind='bar', \n",
    "                               color=['blue'], \n",
    "                               label='male',\n",
    "                               position=0,\n",
    "                               width=bar_width)\n",
    "survived_rate_by_age_female.plot(kind='bar', \n",
    "                                 color=['gold'],\n",
    "                                 label='female',\n",
    "                                 position=-1,\n",
    "                                 width=bar_width)\n",
    "\n",
    "plt.legend(labels=['male', 'female'])\n",
    "plt.title('Age and Sex VS Survival Rate')\n",
    "plt.ylabel('Survival rate')"
   ]
  },
  {
   "cell_type": "markdown",
   "metadata": {},
   "source": [
    "问题2小结：\n",
    "+ 船上以10-40岁（不含10岁）人群为主，但儿童（0-10岁）生还率最高（0.593750）\n",
    "+ 船上男性人数高于女性，但女性生还率较男性明显高出许多\n",
    "+ 结合年龄和性别来看，几乎各个年龄段，女性的生还率都比男性高（除70-80岁年龄段仅有男性）"
   ]
  },
  {
   "cell_type": "markdown",
   "metadata": {},
   "source": [
    "# 问题3: \n",
    "# 有亲属同船的，是否生还率更高？\n",
    "# 亲属越多生还率越高吗？\n",
    "\n",
    "计算相关性(Pearson's r)"
   ]
  },
  {
   "cell_type": "code",
   "execution_count": 16,
   "metadata": {},
   "outputs": [
    {
     "name": "stdout",
     "output_type": "stream",
     "text": [
      "Populating the interactive namespace from numpy and matplotlib\n"
     ]
    },
    {
     "data": {
      "image/png": "[encoded data removed]",
      "text/plain": [
       "<matplotlib.figure.Figure at 0x1a15820090>"
      ]
     },
     "metadata": {},
     "output_type": "display_data"
    }
   ],
   "source": [
    "# 船上有兄弟姐妹配偶的人数分布\n",
    "pie_chart(passenger_df, 'SibSp', 'SibSp VS Count')"
   ]
  },
  {
   "cell_type": "code",
   "execution_count": 17,
   "metadata": {},
   "outputs": [
    {
     "name": "stdout",
     "output_type": "stream",
     "text": [
      "Populating the interactive namespace from numpy and matplotlib\n"
     ]
    },
    {
     "data": {
      "image/png": "[encoded data removed]",
      "text/plain": [
       "<matplotlib.figure.Figure at 0x1a156b06d0>"
      ]
     },
     "metadata": {},
     "output_type": "display_data"
    }
   ],
   "source": [
    "# 船上有父母子女的人数分布\n",
    "\n",
    "pie_chart(passenger_df, 'Parch', 'Parch VS Count')"
   ]
  },
  {
   "cell_type": "code",
   "execution_count": 18,
   "metadata": {},
   "outputs": [
    {
     "name": "stdout",
     "output_type": "stream",
     "text": [
      "-0.0353224988857\n",
      "0.0816294070835\n",
      "0.0166389892827\n"
     ]
    }
   ],
   "source": [
    "def correlation(x, y):\n",
    "    x_in_std_units = (x - x.mean()) / x.std(ddof=0)\n",
    "    y_in_std_units = (y - y.mean()) / y.std(ddof=0)\n",
    "    correlation = (x_in_std_units * y_in_std_units).mean()\n",
    "    return correlation\n",
    "\n",
    "is_survived = passenger_df['Survived']\n",
    "has_sibsp = passenger_df['SibSp']\n",
    "has_parch = passenger_df['Parch']\n",
    "\n",
    "print correlation(has_sibsp,is_survived)\n",
    "print correlation(has_parch,is_survived)\n",
    "print correlation(has_sibsp+has_parch,is_survived)"
   ]
  },
  {
   "cell_type": "code",
   "execution_count": 19,
   "metadata": {},
   "outputs": [
    {
     "data": {
      "text/html": [
       "<div>\n",
       "<style>\n",
       "    .dataframe thead tr:only-child th {\n",
       "        text-align: right;\n",
       "    }\n",
       "\n",
       "    .dataframe thead th {\n",
       "        text-align: left;\n",
       "    }\n",
       "\n",
       "    .dataframe tbody tr th {\n",
       "        vertical-align: top;\n",
       "    }\n",
       "</style>\n",
       "<table border=\"1\" class=\"dataframe\">\n",
       "  <thead>\n",
       "    <tr style=\"text-align: right;\">\n",
       "      <th></th>\n",
       "      <th>SibSp</th>\n",
       "      <th>Parch</th>\n",
       "      <th>Survived</th>\n",
       "    </tr>\n",
       "  </thead>\n",
       "  <tbody>\n",
       "    <tr>\n",
       "      <th>0</th>\n",
       "      <td>0</td>\n",
       "      <td>0</td>\n",
       "      <td>0.303538</td>\n",
       "    </tr>\n",
       "    <tr>\n",
       "      <th>1</th>\n",
       "      <td>0</td>\n",
       "      <td>1</td>\n",
       "      <td>0.657895</td>\n",
       "    </tr>\n",
       "    <tr>\n",
       "      <th>2</th>\n",
       "      <td>0</td>\n",
       "      <td>2</td>\n",
       "      <td>0.724138</td>\n",
       "    </tr>\n",
       "    <tr>\n",
       "      <th>3</th>\n",
       "      <td>0</td>\n",
       "      <td>3</td>\n",
       "      <td>1.000000</td>\n",
       "    </tr>\n",
       "    <tr>\n",
       "      <th>4</th>\n",
       "      <td>0</td>\n",
       "      <td>4</td>\n",
       "      <td>0.000000</td>\n",
       "    </tr>\n",
       "    <tr>\n",
       "      <th>5</th>\n",
       "      <td>0</td>\n",
       "      <td>5</td>\n",
       "      <td>0.000000</td>\n",
       "    </tr>\n",
       "    <tr>\n",
       "      <th>6</th>\n",
       "      <td>1</td>\n",
       "      <td>0</td>\n",
       "      <td>0.520325</td>\n",
       "    </tr>\n",
       "    <tr>\n",
       "      <th>7</th>\n",
       "      <td>1</td>\n",
       "      <td>1</td>\n",
       "      <td>0.596491</td>\n",
       "    </tr>\n",
       "    <tr>\n",
       "      <th>8</th>\n",
       "      <td>1</td>\n",
       "      <td>2</td>\n",
       "      <td>0.631579</td>\n",
       "    </tr>\n",
       "    <tr>\n",
       "      <th>9</th>\n",
       "      <td>1</td>\n",
       "      <td>3</td>\n",
       "      <td>0.333333</td>\n",
       "    </tr>\n",
       "    <tr>\n",
       "      <th>10</th>\n",
       "      <td>1</td>\n",
       "      <td>4</td>\n",
       "      <td>0.000000</td>\n",
       "    </tr>\n",
       "    <tr>\n",
       "      <th>11</th>\n",
       "      <td>1</td>\n",
       "      <td>5</td>\n",
       "      <td>0.333333</td>\n",
       "    </tr>\n",
       "    <tr>\n",
       "      <th>12</th>\n",
       "      <td>1</td>\n",
       "      <td>6</td>\n",
       "      <td>0.000000</td>\n",
       "    </tr>\n",
       "    <tr>\n",
       "      <th>13</th>\n",
       "      <td>2</td>\n",
       "      <td>0</td>\n",
       "      <td>0.250000</td>\n",
       "    </tr>\n",
       "    <tr>\n",
       "      <th>14</th>\n",
       "      <td>2</td>\n",
       "      <td>1</td>\n",
       "      <td>0.857143</td>\n",
       "    </tr>\n",
       "    <tr>\n",
       "      <th>15</th>\n",
       "      <td>2</td>\n",
       "      <td>2</td>\n",
       "      <td>0.500000</td>\n",
       "    </tr>\n",
       "    <tr>\n",
       "      <th>16</th>\n",
       "      <td>2</td>\n",
       "      <td>3</td>\n",
       "      <td>1.000000</td>\n",
       "    </tr>\n",
       "    <tr>\n",
       "      <th>17</th>\n",
       "      <td>3</td>\n",
       "      <td>0</td>\n",
       "      <td>1.000000</td>\n",
       "    </tr>\n",
       "    <tr>\n",
       "      <th>18</th>\n",
       "      <td>3</td>\n",
       "      <td>1</td>\n",
       "      <td>0.000000</td>\n",
       "    </tr>\n",
       "    <tr>\n",
       "      <th>19</th>\n",
       "      <td>3</td>\n",
       "      <td>2</td>\n",
       "      <td>0.285714</td>\n",
       "    </tr>\n",
       "    <tr>\n",
       "      <th>20</th>\n",
       "      <td>4</td>\n",
       "      <td>1</td>\n",
       "      <td>0.000000</td>\n",
       "    </tr>\n",
       "    <tr>\n",
       "      <th>21</th>\n",
       "      <td>4</td>\n",
       "      <td>2</td>\n",
       "      <td>0.333333</td>\n",
       "    </tr>\n",
       "    <tr>\n",
       "      <th>22</th>\n",
       "      <td>5</td>\n",
       "      <td>2</td>\n",
       "      <td>0.000000</td>\n",
       "    </tr>\n",
       "    <tr>\n",
       "      <th>23</th>\n",
       "      <td>8</td>\n",
       "      <td>2</td>\n",
       "      <td>0.000000</td>\n",
       "    </tr>\n",
       "  </tbody>\n",
       "</table>\n",
       "</div>"
      ],
      "text/plain": [
       "    SibSp  Parch  Survived\n",
       "0       0      0  0.303538\n",
       "1       0      1  0.657895\n",
       "2       0      2  0.724138\n",
       "3       0      3  1.000000\n",
       "4       0      4  0.000000\n",
       "5       0      5  0.000000\n",
       "6       1      0  0.520325\n",
       "7       1      1  0.596491\n",
       "8       1      2  0.631579\n",
       "9       1      3  0.333333\n",
       "10      1      4  0.000000\n",
       "11      1      5  0.333333\n",
       "12      1      6  0.000000\n",
       "13      2      0  0.250000\n",
       "14      2      1  0.857143\n",
       "15      2      2  0.500000\n",
       "16      2      3  1.000000\n",
       "17      3      0  1.000000\n",
       "18      3      1  0.000000\n",
       "19      3      2  0.285714\n",
       "20      4      1  0.000000\n",
       "21      4      2  0.333333\n",
       "22      5      2  0.000000\n",
       "23      8      2  0.000000"
      ]
     },
     "execution_count": 19,
     "metadata": {},
     "output_type": "execute_result"
    }
   ],
   "source": [
    "group_by_relatives = passenger_df.groupby(['SibSp','Parch'],\n",
    "                                          as_index=False).mean()\n",
    "group_by_relatives[['SibSp','Parch','Survived']]"
   ]
  },
  {
   "cell_type": "code",
   "execution_count": 20,
   "metadata": {
    "scrolled": true
   },
   "outputs": [
    {
     "name": "stdout",
     "output_type": "stream",
     "text": [
      "Populating the interactive namespace from numpy and matplotlib\n"
     ]
    },
    {
     "data": {
      "text/plain": [
       "<matplotlib.collections.PathCollection at 0x1a15b39c10>"
      ]
     },
     "execution_count": 20,
     "metadata": {},
     "output_type": "execute_result"
    },
    {
     "data": {
      "image/png": "[encoded data removed]",
      "text/plain": [
       "<matplotlib.figure.Figure at 0x1a15740f90>"
      ]
     },
     "metadata": {},
     "output_type": "display_data"
    }
   ],
   "source": [
    "# scale the bubbles' size , by 200\n",
    "scaled_survived = 200 * group_by_relatives['Survived'] / \\\n",
    "                  group_by_relatives['Survived'].std(ddof=0)\n",
    "\n",
    "%pylab inline\n",
    "plt.xlabel('has_sibsp')\n",
    "plt.ylabel('has_parch')\n",
    "plt.title('The Relationship of Survival Rate and Relatives')\n",
    "plt.scatter(group_by_relatives['SibSp'], \n",
    "            group_by_relatives['Parch'],\n",
    "            s=scaled_survived)"
   ]
  },
  {
   "cell_type": "markdown",
   "metadata": {},
   "source": [
    "问题3小结：\n",
    "+ 船上绝大多数人口是独身一人坐船，没有携带亲属\n",
    "+ 根据相关性计算，有兄弟姐妹配偶的，反而生还率更低，但相关性很低（-0.0353224988857）\n",
    "+ 根据相关性计算，有父母子女同船的，生还率稍有提高，但相关性仍较低（0.0816294070835）\n",
    "+ 总体来讲，有亲属同船的，对生还率影响不显著（0.0166389892827）\n",
    "+ 从最后一个图看出，并非亲属越多，生还率越高（5个及以上兄弟姐妹／配偶的，4个及以上父母子女的，生还率极低）\n",
    "+ 从最后一个图看出，在已生还的人中，确实有亲属同船的人更多（圆圈越大表示生还率越高，上图中（0，0）点较其他点较小，没有圆圈表示生还率为0或不存在有该数量亲属的人）\n",
    "+ 已生还的人中，有亲属同船的人更多，可能是由于其家庭出身高贵所致（问题1分析），同有亲属同船相关性不高"
   ]
  },
  {
   "cell_type": "markdown",
   "metadata": {},
   "source": [
    "# 结论\n",
    "\n",
    "## 社会地位\n",
    "+ 人口以三等舱占多数\n",
    "+ 生还率会随着船票等级（Pclass）的提高而提高\n",
    "+ 船票等级__间接__反应乘客的社会地位，但不一定船票等级越高社会地位一定越高\n",
    "\n",
    "## 年龄和性别\n",
    "+ 人口性别上以男性占多数，年龄段上以10-40岁占多数\n",
    "+ 女性生还率较男性有明显提高\n",
    "+ 整体来看，儿童（0-10岁）生还率最高\n",
    "+ 结果可能由于我的分组方式不同而产生差异（因为上次提交，是将0-80岁，以9岁为一个间隔做的划分，72-80岁的生还率较高，得出老人生还率高的结论），推测可能由于某个年龄的人口生还率较高，从而对其所在的年龄段生还率产生影响\n",
    "\n",
    "## 有亲属同船\n",
    "+ 人口以独身一人坐船占绝大多数\n",
    "+ 是否有亲属同船，对生还率的影响不显著\n",
    "+ 并非亲属越多，生还率越高\n",
    "+ 但是在已生还的人中，确实有亲属的人更多，不排除可能是因为其出身好，社会地位更高等其他原因\n",
    "\n",
    "## 分析中存在的其他限制\n",
    "+ 根据[Kaggle](https://www.kaggle.com/c/titanic#description)上的描述，说明总人数为2224人，但是我们获取的数据只有891条，所以以上分析不能代表全部乘客和船员的真实情况：\n",
    "> On April 15, 1912, during her maiden voyage, the Titanic sank after colliding with an iceberg, killing 1502 out of 2224 passengers and crew. \n"
   ]
  },
  {
   "cell_type": "code",
   "execution_count": null,
   "metadata": {
    "collapsed": true
   },
   "outputs": [],
   "source": []
  }
 ],
 "metadata": {
  "kernelspec": {
   "display_name": "Python 2",
   "language": "python",
   "name": "python2"
  },
  "language_info": {
   "codemirror_mode": {
    "name": "ipython",
    "version": 2
   },
   "file_extension": ".py",
   "mimetype": "text/x-python",
   "name": "python",
   "nbconvert_exporter": "python",
   "pygments_lexer": "ipython2",
   "version": "2.7.13"
  }
 },
 "nbformat": 4,
 "nbformat_minor": 2
}
